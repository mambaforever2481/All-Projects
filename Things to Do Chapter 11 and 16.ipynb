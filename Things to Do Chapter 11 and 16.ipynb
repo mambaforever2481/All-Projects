{
 "cells": [
  {
   "cell_type": "code",
   "execution_count": 7,
   "id": "2dd7df4e",
   "metadata": {},
   "outputs": [
    {
     "name": "stdout",
     "output_type": "stream",
     "text": [
      "Open 9-5 Daily\n"
     ]
    }
   ],
   "source": [
    "#Question 11.1:\n",
    "import zoo\n",
    "zoo.hours ()"
   ]
  },
  {
   "cell_type": "code",
   "execution_count": 1,
   "id": "c6a5bff4",
   "metadata": {},
   "outputs": [
    {
     "name": "stdout",
     "output_type": "stream",
     "text": [
      "Open 9-5 Daily\n"
     ]
    }
   ],
   "source": [
    "#Question 11.2:\n",
    "import zoo as menagerie\n",
    "menagerie.hours()"
   ]
  },
  {
   "cell_type": "code",
   "execution_count": null,
   "id": "9e6b7a4a",
   "metadata": {},
   "outputs": [],
   "source": [
    "#Question 16.8:\n",
    "null"
   ]
  }
 ],
 "metadata": {
  "kernelspec": {
   "display_name": "Python 3 (ipykernel)",
   "language": "python",
   "name": "python3"
  },
  "language_info": {
   "codemirror_mode": {
    "name": "ipython",
    "version": 3
   },
   "file_extension": ".py",
   "mimetype": "text/x-python",
   "name": "python",
   "nbconvert_exporter": "python",
   "pygments_lexer": "ipython3",
   "version": "3.10.9"
  }
 },
 "nbformat": 4,
 "nbformat_minor": 5
}
